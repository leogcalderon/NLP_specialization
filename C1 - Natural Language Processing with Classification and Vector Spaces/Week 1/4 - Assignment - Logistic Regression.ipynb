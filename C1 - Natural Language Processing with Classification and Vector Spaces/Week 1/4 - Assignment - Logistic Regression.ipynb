{
 "cells": [
  {
   "cell_type": "code",
   "execution_count": 1,
   "metadata": {},
   "outputs": [],
   "source": [
    "import numpy as np\n",
    "import pandas as pd\n",
    "from nltk.corpus import twitter_samples\n",
    "from nlp import get_freq, preprocess_tweet\n",
    "import matplotlib.pyplot as plt"
   ]
  },
  {
   "cell_type": "markdown",
   "metadata": {},
   "source": [
    "### Data"
   ]
  },
  {
   "cell_type": "code",
   "execution_count": 2,
   "metadata": {},
   "outputs": [],
   "source": [
    "positive_tweets = twitter_samples.strings('positive_tweets.json')\n",
    "negative_tweets = twitter_samples.strings('negative_tweets.json')\n",
    "\n",
    "X_train = positive_tweets[:4000] + negative_tweets[:4000] \n",
    "X_test = positive_tweets[4000:] + negative_tweets[4000:]\n",
    "\n",
    "y_train = np.append(np.ones((4000)), np.zeros((4000)))\n",
    "y_test = np.append(np.ones((1000)), np.zeros((1000)))"
   ]
  },
  {
   "cell_type": "markdown",
   "metadata": {},
   "source": [
    "### Frequency dictionary"
   ]
  },
  {
   "cell_type": "code",
   "execution_count": 3,
   "metadata": {},
   "outputs": [],
   "source": [
    "train_dict = get_freq(X_train,y_train)"
   ]
  },
  {
   "cell_type": "code",
   "execution_count": 4,
   "metadata": {},
   "outputs": [
    {
     "name": "stdout",
     "output_type": "stream",
     "text": [
      "Some samples from the dict:\n",
      " - :p (+) 103 \n",
      " - hate (-) 45\n",
      "\n",
      "There are 11405 words in the frequency table\n"
     ]
    }
   ],
   "source": [
    "print(\"Some samples from the dict:\\n\", \"- :p (+)\", train_dict[(':p', 1.0)], \"\\n\", \"- hate (-)\", train_dict[('hate', 0.0)] )\n",
    "print(\"\\nThere are\",len(train_dict),\"words in the frequency table\")"
   ]
  },
  {
   "cell_type": "markdown",
   "metadata": {},
   "source": [
    "# 1 - Logistic regression"
   ]
  },
  {
   "cell_type": "code",
   "execution_count": 5,
   "metadata": {},
   "outputs": [],
   "source": [
    "def sigmoid(z):\n",
    "    return 1/(1 + np.exp(-z))"
   ]
  },
  {
   "cell_type": "code",
   "execution_count": 21,
   "metadata": {},
   "outputs": [],
   "source": [
    "def gradientDescent(x, y, theta, learning_rate, it):\n",
    "    \n",
    "    m = len(x)\n",
    "    J = 0.\n",
    "    hist = []\n",
    "    \n",
    "    for i in range(it):\n",
    "        z = np.dot(x,theta)\n",
    "        yhat = sigmoid(z)\n",
    "        J = -1./m * (np.dot(y.transpose(), np.log(yhat)) + np.dot((1-y).transpose(),np.log(1-yhat)))\n",
    "        theta = theta - (learning_rate/m) * np.dot(x.transpose(),(yhat-y))\n",
    "        hist.append(float(J))\n",
    "        \n",
    "    J = float(J)\n",
    "    \n",
    "    return hist, J, theta"
   ]
  },
  {
   "cell_type": "markdown",
   "metadata": {},
   "source": [
    "# 2 - Create word vector"
   ]
  },
  {
   "cell_type": "code",
   "execution_count": 7,
   "metadata": {},
   "outputs": [],
   "source": [
    "def create_vector(tweet, freq):\n",
    "    \n",
    "    processed = preprocess_tweet(tweet)\n",
    "    x = np.zeros((1,3))\n",
    "    x[0,0] = 1\n",
    "    \n",
    "    for word in processed:\n",
    "            x[0,1] += freq.get((word,1.),0)\n",
    "            x[0,2] += freq.get((word,0.),0)\n",
    "            \n",
    "    return x"
   ]
  },
  {
   "cell_type": "code",
   "execution_count": 8,
   "metadata": {},
   "outputs": [
    {
     "name": "stdout",
     "output_type": "stream",
     "text": [
      " Bias,   (+),   (-)\n",
      " [[1.0, 3020.0, 61.0]]\n"
     ]
    }
   ],
   "source": [
    "print(\" Bias,   (+),   (-)\\n\",create_vector(X_train[0],train_dict).tolist())"
   ]
  },
  {
   "cell_type": "markdown",
   "metadata": {},
   "source": [
    "# 3 - Training model"
   ]
  },
  {
   "cell_type": "code",
   "execution_count": 9,
   "metadata": {},
   "outputs": [],
   "source": [
    "X_train_vectors = np.zeros((len(X_train),3))\n",
    "\n",
    "for tweet in range(len(X_train)):\n",
    "    X_train_vectors[tweet,:] = create_vector(X_train[tweet], train_dict)\n",
    "    "
   ]
  },
  {
   "cell_type": "code",
   "execution_count": 26,
   "metadata": {},
   "outputs": [],
   "source": [
    "hist, J, theta = gradientDescent(X_train_vectors, y_train.reshape(len(y_train),1), np.zeros((3, 1)), 1e-9, 4000)"
   ]
  },
  {
   "cell_type": "code",
   "execution_count": 27,
   "metadata": {},
   "outputs": [
    {
     "data": {
      "image/png": "[encoded data removed]",
      "text/plain": [
       "<Figure size 1080x360 with 1 Axes>"
      ]
     },
     "metadata": {
      "needs_background": "light"
     },
     "output_type": "display_data"
    }
   ],
   "source": [
    "plt.figure(figsize=(15,5))\n",
    "plt.plot(hist)\n",
    "plt.title(\"Cost function history\")\n",
    "plt.xlabel(\"Iteration\")\n",
    "plt.ylabel(\"Cost\")\n",
    "plt.show()"
   ]
  },
  {
   "cell_type": "markdown",
   "metadata": {},
   "source": [
    "# 4 - Predict test set"
   ]
  },
  {
   "cell_type": "code",
   "execution_count": 33,
   "metadata": {},
   "outputs": [],
   "source": [
    "def predict(tweet, theta, freq):\n",
    "    x = create_vector(tweet,freq)\n",
    "    z = np.dot(x,theta)\n",
    "    a = sigmoid(z)\n",
    "    if a > 0.5:\n",
    "        return 1\n",
    "    else:\n",
    "        return 0"
   ]
  },
  {
   "cell_type": "code",
   "execution_count": 38,
   "metadata": {},
   "outputs": [],
   "source": [
    "yhat = []\n",
    "for tweet in X_test:\n",
    "    yhat.append(predict(tweet, theta, train_dict))"
   ]
  },
  {
   "cell_type": "code",
   "execution_count": 62,
   "metadata": {},
   "outputs": [
    {
     "name": "stdout",
     "output_type": "stream",
     "text": [
      "Accuracy: 0.988\n"
     ]
    }
   ],
   "source": [
    "correct = 0\n",
    "for i in range(len(yhat)): \n",
    "    if int(yhat[i]) == int(y_test[i]):\n",
    "        correct += 1\n",
    "print(\"Accuracy:\",correct/len(yhat))"
   ]
  },
  {
   "cell_type": "markdown",
   "metadata": {},
   "source": [
    "### Some errors"
   ]
  },
  {
   "cell_type": "code",
   "execution_count": 91,
   "metadata": {},
   "outputs": [],
   "source": [
    "error = []\n",
    "for i in range(len(yhat)): \n",
    "    if int(yhat[i]) != int(y_test[i]):\n",
    "        error.append(i)"
   ]
  },
  {
   "cell_type": "code",
   "execution_count": 98,
   "metadata": {},
   "outputs": [
    {
     "name": "stdout",
     "output_type": "stream",
     "text": [
      "Tweet: @ITVCentral #Midlands Yes thanks for the depressing weather forecast, where the word 'rain' was mentioned several times :-( \n",
      "Prediction: 1 \n",
      "Real label: 0\n"
     ]
    }
   ],
   "source": [
    "print(\"Tweet:\",X_test[error[-1]],\"\\nPrediction:\",yhat[error[-1]],\"\\nReal label:\", int(y_test[error[-1]]))"
   ]
  },
  {
   "cell_type": "code",
   "execution_count": 99,
   "metadata": {},
   "outputs": [
    {
     "name": "stdout",
     "output_type": "stream",
     "text": [
      "Tweet: @The5BallOver @Radio702 :-( It's not a challenge though. Please check our FB page for entries and rather do a substitution. Thanks! \n",
      "Prediction: 1 \n",
      "Real label: 0\n"
     ]
    }
   ],
   "source": [
    "print(\"Tweet:\",X_test[error[-3]],\"\\nPrediction:\",yhat[error[-3]],\"\\nReal label:\", int(y_test[error[-3]]))"
   ]
  },
  {
   "cell_type": "markdown",
   "metadata": {},
   "source": [
    "### Test"
   ]
  },
  {
   "cell_type": "code",
   "execution_count": 102,
   "metadata": {},
   "outputs": [
    {
     "data": {
      "text/plain": [
       "0"
      ]
     },
     "execution_count": 102,
     "metadata": {},
     "output_type": "execute_result"
    }
   ],
   "source": [
    "my_tweet = \"Today we are all sad because we cannot do anything due the covid, so depressive, :(\"\n",
    "predict(my_tweet,theta,train_dict)"
   ]
  },
  {
   "cell_type": "code",
   "execution_count": 103,
   "metadata": {},
   "outputs": [
    {
     "data": {
      "text/plain": [
       "1"
      ]
     },
     "execution_count": 103,
     "metadata": {},
     "output_type": "execute_result"
    }
   ],
   "source": [
    "my_tweet2 = \"I am very happy because I'm learning a lot with this Coursera course\"\n",
    "predict(my_tweet2,theta,train_dict)"
   ]
  }
 ],
 "metadata": {
  "kernelspec": {
   "display_name": "Python 3",
   "language": "python",
   "name": "python3"
  },
  "language_info": {
   "codemirror_mode": {
    "name": "ipython",
    "version": 3
   },
   "file_extension": ".py",
   "mimetype": "text/x-python",
   "name": "python",
   "nbconvert_exporter": "python",
   "pygments_lexer": "ipython3",
   "version": "3.7.6"
  }
 },
 "nbformat": 4,
 "nbformat_minor": 4
}
