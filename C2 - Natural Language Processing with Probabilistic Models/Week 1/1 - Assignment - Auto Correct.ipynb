{
 "cells": [
  {
   "cell_type": "code",
   "execution_count": 1,
   "metadata": {},
   "outputs": [],
   "source": [
    "import re\n",
    "from collections import Counter\n",
    "import numpy as np\n",
    "import pandas as pd"
   ]
  },
  {
   "cell_type": "markdown",
   "metadata": {},
   "source": [
    "# Part 1: Data Preprocessing"
   ]
  },
  {
   "cell_type": "markdown",
   "metadata": {},
   "source": [
    "## Exercise 1\n",
    "\n",
    "Implement the function process_data which\n",
    "\n",
    "    1) Reads in a corpus (text file)\n",
    "\n",
    "    2) Changes everything to lowercase\n",
    "\n",
    "    3) Returns a list of words.\n"
   ]
  },
  {
   "cell_type": "code",
   "execution_count": 2,
   "metadata": {},
   "outputs": [],
   "source": [
    "def process_data(text_file):\n",
    "    \n",
    "    processed = text_file.lower()\n",
    "    words = re.findall('\\w+',processed)\n",
    "    \n",
    "    return words"
   ]
  },
  {
   "cell_type": "code",
   "execution_count": 3,
   "metadata": {},
   "outputs": [],
   "source": [
    "with open(\"shakespeare.txt\") as f:\n",
    "        file = f.read()"
   ]
  },
  {
   "cell_type": "code",
   "execution_count": 4,
   "metadata": {},
   "outputs": [],
   "source": [
    "vocab = process_data(file)"
   ]
  },
  {
   "cell_type": "code",
   "execution_count": 5,
   "metadata": {},
   "outputs": [
    {
     "data": {
      "text/plain": [
       "['o', 'for', 'a', 'muse', 'of']"
      ]
     },
     "execution_count": 5,
     "metadata": {},
     "output_type": "execute_result"
    }
   ],
   "source": [
    "vocab[:5]"
   ]
  },
  {
   "cell_type": "markdown",
   "metadata": {},
   "source": [
    "## Exercise 2\n",
    "\n",
    "Implement a get_count function that returns a dictionary\n",
    "\n",
    "    1) The dictionary's keys are words\n",
    "    2) The value for each word is the number of times that word appears in the corpus.\n"
   ]
  },
  {
   "cell_type": "code",
   "execution_count": 6,
   "metadata": {},
   "outputs": [],
   "source": [
    "def get_count(words):\n",
    "    \n",
    "    dictionary = Counter(words)\n",
    "    \n",
    "    return dictionary"
   ]
  },
  {
   "cell_type": "code",
   "execution_count": 7,
   "metadata": {},
   "outputs": [],
   "source": [
    "count_words = get_count(vocab)"
   ]
  },
  {
   "cell_type": "code",
   "execution_count": 8,
   "metadata": {},
   "outputs": [
    {
     "data": {
      "text/plain": [
       "(157, 18, 1525)"
      ]
     },
     "execution_count": 8,
     "metadata": {},
     "output_type": "execute_result"
    }
   ],
   "source": [
    "count_words[\"o\"] , count_words[\"muse\"], count_words[\"the\"]"
   ]
  },
  {
   "cell_type": "markdown",
   "metadata": {},
   "source": [
    "## Exercise 3\n",
    "\n",
    "Given the dictionary of word counts, compute the probability that each word will appear if randomly selected from the corpus of words.\n",
    "$$P(w_i) = \\frac{C(w_i)}{M}$$\n",
    "\n",
    "where\n",
    "\n",
    "$C(w_i)$ is the total number of times $w_i$ appears in the corpus.\n",
    "\n",
    "$M$ is the total number of words in the corpus.\n",
    "\n",
    "For example, the probability of the word 'am' in the sentence 'I am happy because I am learning' is:\n",
    "$$P(am) = \\frac{C(w_i)}{M} = \\frac {2}{7}$$\n",
    "\n"
   ]
  },
  {
   "cell_type": "code",
   "execution_count": 9,
   "metadata": {},
   "outputs": [],
   "source": [
    "def prob_words(count_words):\n",
    "    \n",
    "    m = sum(count_words.values())\n",
    "    prob = {}\n",
    "    \n",
    "    for key in count_words.keys():\n",
    "        prob[key] = count_words[key]/m\n",
    "        \n",
    "    return prob"
   ]
  },
  {
   "cell_type": "code",
   "execution_count": 10,
   "metadata": {},
   "outputs": [],
   "source": [
    "prob = prob_words(count_words)"
   ]
  },
  {
   "cell_type": "code",
   "execution_count": 11,
   "metadata": {},
   "outputs": [
    {
     "data": {
      "text/plain": [
       "(0.0029283396127877045, 0.000335733204013877, 0.028444063117842356)"
      ]
     },
     "execution_count": 11,
     "metadata": {},
     "output_type": "execute_result"
    }
   ],
   "source": [
    "prob[\"o\"], prob[\"muse\"], prob[\"the\"]"
   ]
  },
  {
   "cell_type": "markdown",
   "metadata": {},
   "source": [
    "# Part 2: String Manipulations"
   ]
  },
  {
   "cell_type": "markdown",
   "metadata": {},
   "source": [
    "Now, that you have computed $P(w_i)$ for all the words in the corpus, you will write a few functions to manipulate strings so that you can edit the erroneous strings and return the right spellings of the words. In this section, you will implement four functions:\n",
    "\n",
    "- delete_letter: given a word, it returns all the possible strings that have one character removed.\n",
    "- switch_letter: given a word, it returns all the possible strings that have two adjacent letters switched.\n",
    "- replace_letter: given a word, it returns all the possible strings that have one character replaced by another different letter.\n",
    "- insert_letter: given a word, it returns all the possible strings that have an additional character inserted."
   ]
  },
  {
   "cell_type": "code",
   "execution_count": 12,
   "metadata": {},
   "outputs": [],
   "source": [
    "def delete_letter(word, verbose=False):\n",
    "    \n",
    "    splits = [[word[:i],word[i:]] for i in range(0,len(word))]\n",
    "    deleted = [left + right[1:] for left,right in splits]\n",
    "    \n",
    "    return deleted"
   ]
  },
  {
   "cell_type": "code",
   "execution_count": 13,
   "metadata": {},
   "outputs": [
    {
     "data": {
      "text/plain": [
       "['ans', 'cns', 'cas', 'can']"
      ]
     },
     "execution_count": 13,
     "metadata": {},
     "output_type": "execute_result"
    }
   ],
   "source": [
    "delete_letter(\"cans\")"
   ]
  },
  {
   "cell_type": "code",
   "execution_count": 14,
   "metadata": {},
   "outputs": [],
   "source": [
    "def switch_letter(word):\n",
    "    \n",
    "    switches = []\n",
    "    \n",
    "    for i in range(len(word)-1):\n",
    "        segment = word[i:i+2][::-1]\n",
    "        switched = word[:i] + segment + word[i+2:]\n",
    "        switches.append(switched)\n",
    "        \n",
    "    return switches"
   ]
  },
  {
   "cell_type": "code",
   "execution_count": 15,
   "metadata": {},
   "outputs": [
    {
     "data": {
      "text/plain": [
       "['tea', 'eat']"
      ]
     },
     "execution_count": 15,
     "metadata": {},
     "output_type": "execute_result"
    }
   ],
   "source": [
    "switch_letter(\"eta\")"
   ]
  },
  {
   "cell_type": "code",
   "execution_count": 16,
   "metadata": {},
   "outputs": [],
   "source": [
    "def replace_letter(word):\n",
    "    \n",
    "    replaced = []\n",
    "    \n",
    "    abc = \"abcdefghijklmnopqrstuvwxyz\"\n",
    "    \n",
    "    for l in range(len(word)):\n",
    "        for new in abc:\n",
    "            new_word = word[:l] + new + word[l+1:]\n",
    "            if new_word != word:\n",
    "                replaced.append(new_word)\n",
    "            \n",
    "    return replaced"
   ]
  },
  {
   "cell_type": "code",
   "execution_count": 17,
   "metadata": {},
   "outputs": [
    {
     "data": {
      "text/plain": [
       "['aan', 'ban', 'dan', 'ean', 'fan', 'gan', 'han', 'ian', 'jan', 'kan']"
      ]
     },
     "execution_count": 17,
     "metadata": {},
     "output_type": "execute_result"
    }
   ],
   "source": [
    "replace_letter(\"can\")[0:10]"
   ]
  },
  {
   "cell_type": "code",
   "execution_count": 18,
   "metadata": {},
   "outputs": [],
   "source": [
    "def insert_letter(word):\n",
    "    \n",
    "    inserted = []\n",
    "    \n",
    "    abc = \"abcdefghijklmnopqrstuvwxyz\"\n",
    "    \n",
    "    for i in range(len(word)+1):\n",
    "        for new in abc:\n",
    "            inserted_word = word[:i] + new + word[i:]\n",
    "            inserted.append(inserted_word)\n",
    "            \n",
    "    return inserted"
   ]
  },
  {
   "cell_type": "code",
   "execution_count": 19,
   "metadata": {},
   "outputs": [
    {
     "data": {
      "text/plain": [
       "['aat', 'bat', 'cat', 'dat', 'eat', 'fat', 'gat', 'hat', 'iat', 'jat']"
      ]
     },
     "execution_count": 19,
     "metadata": {},
     "output_type": "execute_result"
    }
   ],
   "source": [
    "insert_letter(\"at\")[0:10]"
   ]
  },
  {
   "cell_type": "markdown",
   "metadata": {},
   "source": [
    "# Part 3: Combining the edits\n",
    "Now that you have implemented the string manipulations, you will create two functions that, given a string, will return all the possible single and double edits on that string. These will be edit_one_letter() and edit_two_letters()."
   ]
  },
  {
   "cell_type": "markdown",
   "metadata": {},
   "source": [
    "## Exercise 8\n",
    "\n",
    "Instructions: Implement the edit_one_letter function to get all the possible edits that are one edit away from a word. The edits consist of the replace, insert, delete, and optionally the switch operation. You should use the previous functions you have already implemented to complete this function. The 'switch' function is a less common edit function, so its use will be selected by an \"allow_switches\" input argument."
   ]
  },
  {
   "cell_type": "code",
   "execution_count": 20,
   "metadata": {},
   "outputs": [],
   "source": [
    "def edit_one_letter(word, allow_switches=False):\n",
    "    \n",
    "    possibles = []\n",
    "    \n",
    "    if allow_switches:\n",
    "        possibles += switch_letter(word)\n",
    "        \n",
    "    possibles += delete_letter(word)\n",
    "    possibles += replace_letter(word)\n",
    "    possibles += insert_letter(word)\n",
    "    \n",
    "    set_possibles = set(possibles)\n",
    "    \n",
    "    return set_possibles"
   ]
  },
  {
   "cell_type": "code",
   "execution_count": 21,
   "metadata": {},
   "outputs": [
    {
     "name": "stdout",
     "output_type": "stream",
     "text": [
      "['aet', 'lt', 'nat', 'ut', 'ac', 'hat', 'ant', 'pt', 'ap', 'ab', 'qt', 'agt', 'bat', 'atm', 'atw', 'gat', 'am', 'mt', 'aat', 'wt', 'atq', 'oat', 'iat', 'ay', 'att', 'ata', 'bt', 'st', 'atv', 'atb', 'dt', 'tat', 'aft', 'awt', 'ati', 'jt', 'tt', 'ad', 'fat', 'av', 'atx', 'it', 'nt', 'avt', 'rt', 'atn', 'aw', 'qat', 'adt', 'atj', 'et', 'apt', 'azt', 'atd', 'uat', 'ct', 'an', 'atr', 'art', 'vt', 'mat', 'xat', 'aht', 'az', 'ot', 'sat', 'aa', 'ft', 'atf', 'aqt', 'ayt', 'pat', 'zat', 'yt', 'atl', 'act', 't', 'eat', 'akt', 'ak', 'aot', 'xt', 'atp', 'cat', 'yat', 'wat', 'atg', 'ato', 'ax', 'abt', 'rat', 'aut', 'ajt', 'ag', 'ah', 'ate', 'atk', 'jat', 'aq', 'ht', 'ast', 'atu', 'au', 'as', 'ar', 'atc', 'kt', 'gt', 'zt', 'ats', 'axt', 'al', 'ait', 'ai', 'ath', 'aj', 'amt', 'atz', 'kat', 'a', 'aty', 'alt', 'lat', 'vat', 'af', 'ao', 'dat', 'ae']\n"
     ]
    }
   ],
   "source": [
    "print(list(edit_one_letter(\"at\")))"
   ]
  },
  {
   "cell_type": "markdown",
   "metadata": {},
   "source": [
    "## Exercise 9\n",
    "\n",
    "Now you can generalize this to implement to get two edits on a word. To do so, you would have to get all the possible edits on a single word and then for each modified word, you would have to modify it again.\n",
    "\n",
    "Instructions: Implement the edit_two_letters function that returns a set of words that are two edits away. Note that creating additional edits based on the edit_one_letter function may 'restore' some one_edits to zero or one edits. That is allowed here. This accounted for in get_corrections."
   ]
  },
  {
   "cell_type": "code",
   "execution_count": 22,
   "metadata": {},
   "outputs": [],
   "source": [
    "def edit_two_letters(word, allow_switches = True):\n",
    "\n",
    "    edit_one = list(edit_one_letter(word,allow_switches=allow_switches))\n",
    "    edit_two = edit_one.copy()\n",
    "    \n",
    "    for w in edit_one:\n",
    "        edit_two += list(edit_one_letter(w,allow_switches=allow_switches))\n",
    "        \n",
    "    edits = set(edit_two)\n",
    "    \n",
    "    return edits"
   ]
  },
  {
   "cell_type": "code",
   "execution_count": 23,
   "metadata": {},
   "outputs": [
    {
     "data": {
      "text/plain": [
       "2654"
      ]
     },
     "execution_count": 23,
     "metadata": {},
     "output_type": "execute_result"
    }
   ],
   "source": [
    "len(edit_two_letters(\"a\"))"
   ]
  },
  {
   "cell_type": "markdown",
   "metadata": {},
   "source": [
    "## Exercise 10\n",
    "\n",
    "Instructions: Implement get_corrections, which returns a list of zero to n possible suggestion tuples of the form (word, probability_of_word)."
   ]
  },
  {
   "cell_type": "code",
   "execution_count": 37,
   "metadata": {},
   "outputs": [],
   "source": [
    "def get_corrections2(word, probs, vocab, n):\n",
    "    \n",
    "    suggestions = []\n",
    "    n_best = []\n",
    "\n",
    "    suggestions = list((word in vocab and word) or edit_one_letter(word).intersection(vocab) or edit_two_letters(word).intersection(vocab))\n",
    "    n_best = [[s,probs[s]] for s in list(reversed(suggestions))]\n",
    "\n",
    "\n",
    "    return n_best[:n]"
   ]
  },
  {
   "cell_type": "code",
   "execution_count": 38,
   "metadata": {},
   "outputs": [
    {
     "data": {
      "text/plain": [
       "[['dye', 0.00016350555918901244], ['days', 0.0035971223021582736]]"
      ]
     },
     "execution_count": 38,
     "metadata": {},
     "output_type": "execute_result"
    }
   ],
   "source": [
    "get_corrections2(\"dys\",prob,vocab,2)"
   ]
  },
  {
   "cell_type": "code",
   "execution_count": 49,
   "metadata": {},
   "outputs": [
    {
     "data": {
      "text/plain": [
       "[['said', 0.0029431000654022237]]"
      ]
     },
     "execution_count": 49,
     "metadata": {},
     "output_type": "execute_result"
    }
   ],
   "source": [
    "get_corrections2(\"sadsd\",prob,vocab,1)"
   ]
  },
  {
   "cell_type": "markdown",
   "metadata": {},
   "source": [
    "# Part 4: Minimum Edit distance "
   ]
  },
  {
   "cell_type": "code",
   "execution_count": 50,
   "metadata": {},
   "outputs": [],
   "source": [
    "def min_edit_distance(source, target):\n",
    "    \n",
    "    ins_cost = 1\n",
    "    del_cost = 1\n",
    "    rep_cost = 2\n",
    "    \n",
    "    m = len(source)\n",
    "    n = len(target)\n",
    "    \n",
    "    D = np.zeros((m+1, n+1), dtype=int) \n",
    "    \n",
    "    for row in range(1,m+1):\n",
    "        D[row,0] = D[row-1,0] + del_cost\n",
    "        \n",
    "    for col in range(1,n+1):\n",
    "        D[0,col] = D[0,col-1] + ins_cost\n",
    "        \n",
    "    for row in range(1,m+1): \n",
    "        \n",
    "        for col in range(1,n+1):\n",
    "\n",
    "            r_cost = rep_cost\n",
    "\n",
    "            if source[row-1] == target[col-1]:\n",
    "                r_cost = 0\n",
    "\n",
    "            D[row,col] = min([D[row-1,col]+del_cost, D[row,col-1]+ins_cost, D[row-1,col-1]+r_cost])\n",
    "          \n",
    "    med = D[m,n]\n",
    "\n",
    "    return D, med"
   ]
  },
  {
   "cell_type": "code",
   "execution_count": 63,
   "metadata": {},
   "outputs": [
    {
     "data": {
      "text/html": [
       "<div>\n",
       "<style scoped>\n",
       "    .dataframe tbody tr th:only-of-type {\n",
       "        vertical-align: middle;\n",
       "    }\n",
       "\n",
       "    .dataframe tbody tr th {\n",
       "        vertical-align: top;\n",
       "    }\n",
       "\n",
       "    .dataframe thead th {\n",
       "        text-align: right;\n",
       "    }\n",
       "</style>\n",
       "<table border=\"1\" class=\"dataframe\">\n",
       "  <thead>\n",
       "    <tr style=\"text-align: right;\">\n",
       "      <th></th>\n",
       "      <th>#</th>\n",
       "      <th>h</th>\n",
       "      <th>a</th>\n",
       "      <th>t</th>\n",
       "      <th>e</th>\n",
       "      <th>f</th>\n",
       "      <th>u</th>\n",
       "      <th>l</th>\n",
       "    </tr>\n",
       "  </thead>\n",
       "  <tbody>\n",
       "    <tr>\n",
       "      <th>#</th>\n",
       "      <td>0</td>\n",
       "      <td>1</td>\n",
       "      <td>2</td>\n",
       "      <td>3</td>\n",
       "      <td>4</td>\n",
       "      <td>5</td>\n",
       "      <td>6</td>\n",
       "      <td>7</td>\n",
       "    </tr>\n",
       "    <tr>\n",
       "      <th>l</th>\n",
       "      <td>1</td>\n",
       "      <td>2</td>\n",
       "      <td>3</td>\n",
       "      <td>4</td>\n",
       "      <td>5</td>\n",
       "      <td>6</td>\n",
       "      <td>7</td>\n",
       "      <td>6</td>\n",
       "    </tr>\n",
       "    <tr>\n",
       "      <th>o</th>\n",
       "      <td>2</td>\n",
       "      <td>3</td>\n",
       "      <td>4</td>\n",
       "      <td>5</td>\n",
       "      <td>6</td>\n",
       "      <td>7</td>\n",
       "      <td>8</td>\n",
       "      <td>7</td>\n",
       "    </tr>\n",
       "    <tr>\n",
       "      <th>v</th>\n",
       "      <td>3</td>\n",
       "      <td>4</td>\n",
       "      <td>5</td>\n",
       "      <td>6</td>\n",
       "      <td>7</td>\n",
       "      <td>8</td>\n",
       "      <td>9</td>\n",
       "      <td>8</td>\n",
       "    </tr>\n",
       "    <tr>\n",
       "      <th>e</th>\n",
       "      <td>4</td>\n",
       "      <td>5</td>\n",
       "      <td>6</td>\n",
       "      <td>7</td>\n",
       "      <td>6</td>\n",
       "      <td>7</td>\n",
       "      <td>8</td>\n",
       "      <td>9</td>\n",
       "    </tr>\n",
       "    <tr>\n",
       "      <th>l</th>\n",
       "      <td>5</td>\n",
       "      <td>6</td>\n",
       "      <td>7</td>\n",
       "      <td>8</td>\n",
       "      <td>7</td>\n",
       "      <td>8</td>\n",
       "      <td>9</td>\n",
       "      <td>8</td>\n",
       "    </tr>\n",
       "    <tr>\n",
       "      <th>y</th>\n",
       "      <td>6</td>\n",
       "      <td>7</td>\n",
       "      <td>8</td>\n",
       "      <td>9</td>\n",
       "      <td>8</td>\n",
       "      <td>9</td>\n",
       "      <td>10</td>\n",
       "      <td>9</td>\n",
       "    </tr>\n",
       "  </tbody>\n",
       "</table>\n",
       "</div>"
      ],
      "text/plain": [
       "   #  h  a  t  e  f   u  l\n",
       "#  0  1  2  3  4  5   6  7\n",
       "l  1  2  3  4  5  6   7  6\n",
       "o  2  3  4  5  6  7   8  7\n",
       "v  3  4  5  6  7  8   9  8\n",
       "e  4  5  6  7  6  7   8  9\n",
       "l  5  6  7  8  7  8   9  8\n",
       "y  6  7  8  9  8  9  10  9"
      ]
     },
     "execution_count": 63,
     "metadata": {},
     "output_type": "execute_result"
    }
   ],
   "source": [
    "matrix, min_edits = min_edit_distance(\"lovely\", \"hateful\")\n",
    "pd.DataFrame(matrix, index=list('#' + source), columns= list('#' + target))"
   ]
  },
  {
   "cell_type": "code",
   "execution_count": 61,
   "metadata": {},
   "outputs": [
    {
     "name": "stdout",
     "output_type": "stream",
     "text": [
      "minimum edits:  9\n"
     ]
    }
   ],
   "source": [
    "print(\"minimum edits: \",min_edits)"
   ]
  }
 ],
 "metadata": {
  "kernelspec": {
   "display_name": "Python 3",
   "language": "python",
   "name": "python3"
  },
  "language_info": {
   "codemirror_mode": {
    "name": "ipython",
    "version": 3
   },
   "file_extension": ".py",
   "mimetype": "text/x-python",
   "name": "python",
   "nbconvert_exporter": "python",
   "pygments_lexer": "ipython3",
   "version": "3.7.6"
  }
 },
 "nbformat": 4,
 "nbformat_minor": 4
}
