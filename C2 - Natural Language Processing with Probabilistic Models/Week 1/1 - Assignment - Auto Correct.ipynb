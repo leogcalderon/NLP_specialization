{
 "cells": [
  {
   "cell_type": "code",
   "execution_count": 35,
   "metadata": {},
   "outputs": [],
   "source": [
    "import re\n",
    "from collections import Counter\n",
    "import numpy as np\n",
    "import pandas as pd"
   ]
  },
  {
   "cell_type": "markdown",
   "metadata": {},
   "source": [
    "# Part 1: Data Preprocessing"
   ]
  },
  {
   "cell_type": "markdown",
   "metadata": {},
   "source": [
    "## Exercise 1\n",
    "\n",
    "Implement the function process_data which\n",
    "\n",
    "    1) Reads in a corpus (text file)\n",
    "\n",
    "    2) Changes everything to lowercase\n",
    "\n",
    "    3) Returns a list of words.\n"
   ]
  },
  {
   "cell_type": "code",
   "execution_count": 39,
   "metadata": {},
   "outputs": [],
   "source": [
    "def process_data(text_file):\n",
    "    \n",
    "    processed = text_file.lower()\n",
    "    words = re.findall('\\w+',processed)\n",
    "    \n",
    "    return words"
   ]
  },
  {
   "cell_type": "code",
   "execution_count": 41,
   "metadata": {},
   "outputs": [],
   "source": [
    "with open(\"shakespeare.txt\") as f:\n",
    "        file = f.read()"
   ]
  },
  {
   "cell_type": "code",
   "execution_count": 215,
   "metadata": {},
   "outputs": [],
   "source": [
    "vocab = process_data(file)"
   ]
  },
  {
   "cell_type": "code",
   "execution_count": 185,
   "metadata": {},
   "outputs": [
    {
     "data": {
      "text/plain": [
       "['o', 'for', 'a', 'muse', 'of']"
      ]
     },
     "execution_count": 185,
     "metadata": {},
     "output_type": "execute_result"
    }
   ],
   "source": [
    "vocab[:5]"
   ]
  },
  {
   "cell_type": "markdown",
   "metadata": {},
   "source": [
    "## Exercise 2\n",
    "\n",
    "Implement a get_count function that returns a dictionary\n",
    "\n",
    "    1) The dictionary's keys are words\n",
    "    2) The value for each word is the number of times that word appears in the corpus.\n"
   ]
  },
  {
   "cell_type": "code",
   "execution_count": 44,
   "metadata": {},
   "outputs": [],
   "source": [
    "def get_count(words):\n",
    "    \n",
    "    dictionary = Counter(words)\n",
    "    \n",
    "    return dictionary"
   ]
  },
  {
   "cell_type": "code",
   "execution_count": 53,
   "metadata": {},
   "outputs": [],
   "source": [
    "count_words = get_count(words)"
   ]
  },
  {
   "cell_type": "code",
   "execution_count": 61,
   "metadata": {},
   "outputs": [
    {
     "data": {
      "text/plain": [
       "(157, 18, 1525)"
      ]
     },
     "execution_count": 61,
     "metadata": {},
     "output_type": "execute_result"
    }
   ],
   "source": [
    "count_words[\"o\"] , count_words[\"muse\"], count_words[\"the\"]"
   ]
  },
  {
   "cell_type": "markdown",
   "metadata": {},
   "source": [
    "## Exercise 3\n",
    "\n",
    "Given the dictionary of word counts, compute the probability that each word will appear if randomly selected from the corpus of words.\n",
    "$$P(w_i) = \\frac{C(w_i)}{M}$$\n",
    "\n",
    "where\n",
    "\n",
    "$C(w_i)$ is the total number of times $w_i$ appears in the corpus.\n",
    "\n",
    "$M$ is the total number of words in the corpus.\n",
    "\n",
    "For example, the probability of the word 'am' in the sentence 'I am happy because I am learning' is:\n",
    "$$P(am) = \\frac{C(w_i)}{M} = \\frac {2}{7}$$\n",
    "\n"
   ]
  },
  {
   "cell_type": "code",
   "execution_count": 51,
   "metadata": {},
   "outputs": [],
   "source": [
    "def prob_words(count_words):\n",
    "    \n",
    "    m = len(count_words)\n",
    "    prob = {}\n",
    "    \n",
    "    for key in count_words.keys():\n",
    "        prob[key] = count_words[key]/m\n",
    "        \n",
    "    return prob"
   ]
  },
  {
   "cell_type": "code",
   "execution_count": 56,
   "metadata": {},
   "outputs": [],
   "source": [
    "prob = prob_words(count_words)"
   ]
  },
  {
   "cell_type": "code",
   "execution_count": 62,
   "metadata": {},
   "outputs": [
    {
     "data": {
      "text/plain": [
       "(0.02567037279267495, 0.0029431000654022237, 0.24934597776324394)"
      ]
     },
     "execution_count": 62,
     "metadata": {},
     "output_type": "execute_result"
    }
   ],
   "source": [
    "prob[\"o\"], prob[\"muse\"], prob[\"the\"]"
   ]
  },
  {
   "cell_type": "markdown",
   "metadata": {},
   "source": [
    "# Part 2: String Manipulations"
   ]
  },
  {
   "cell_type": "markdown",
   "metadata": {},
   "source": [
    "Now, that you have computed $P(w_i)$ for all the words in the corpus, you will write a few functions to manipulate strings so that you can edit the erroneous strings and return the right spellings of the words. In this section, you will implement four functions:\n",
    "\n",
    "- delete_letter: given a word, it returns all the possible strings that have one character removed.\n",
    "- switch_letter: given a word, it returns all the possible strings that have two adjacent letters switched.\n",
    "- replace_letter: given a word, it returns all the possible strings that have one character replaced by another different letter.\n",
    "- insert_letter: given a word, it returns all the possible strings that have an additional character inserted."
   ]
  },
  {
   "cell_type": "code",
   "execution_count": 70,
   "metadata": {},
   "outputs": [],
   "source": [
    "def delete_letter(word, verbose=False):\n",
    "    \n",
    "    splits = []\n",
    "    \n",
    "    for i in range(0,len(word)):\n",
    "        a = word[:i]\n",
    "        b = word[i:]\n",
    "        splits.append([a,b])\n",
    "    \n",
    "    deleted = [left + right[1:] for left,right in splits]\n",
    "    \n",
    "    return deleted"
   ]
  },
  {
   "cell_type": "code",
   "execution_count": 90,
   "metadata": {},
   "outputs": [
    {
     "data": {
      "text/plain": [
       "['ans', 'cns', 'cas', 'can']"
      ]
     },
     "execution_count": 90,
     "metadata": {},
     "output_type": "execute_result"
    }
   ],
   "source": [
    "delete_letter(\"cans\")"
   ]
  },
  {
   "cell_type": "code",
   "execution_count": 85,
   "metadata": {},
   "outputs": [],
   "source": [
    "def switch_letter(word):\n",
    "    \n",
    "    switches = []\n",
    "    \n",
    "    for i in range(len(word)-1):\n",
    "        segment = word[i:i+2][::-1]\n",
    "        switched = word[:i] + segment + word[i+2:]\n",
    "        switches.append(switched)\n",
    "        \n",
    "    return switches"
   ]
  },
  {
   "cell_type": "code",
   "execution_count": 89,
   "metadata": {},
   "outputs": [
    {
     "data": {
      "text/plain": [
       "['tea', 'eat']"
      ]
     },
     "execution_count": 89,
     "metadata": {},
     "output_type": "execute_result"
    }
   ],
   "source": [
    "switch_letter(\"eta\")"
   ]
  },
  {
   "cell_type": "code",
   "execution_count": 100,
   "metadata": {},
   "outputs": [],
   "source": [
    "def replace_letter(word):\n",
    "    \n",
    "    replaced = []\n",
    "    \n",
    "    abc = \"abcdefghijklmnopqrstuvwxyz\"\n",
    "    \n",
    "    for l in range(len(word)):\n",
    "        for new in abc:\n",
    "            new_word = word[:l] + new + word[l+1:]\n",
    "            if new_word != word:\n",
    "                replaced.append(new_word)\n",
    "            \n",
    "    return replaced"
   ]
  },
  {
   "cell_type": "code",
   "execution_count": 142,
   "metadata": {},
   "outputs": [
    {
     "data": {
      "text/plain": [
       "['aan', 'ban', 'dan', 'ean', 'fan', 'gan', 'han', 'ian', 'jan', 'kan']"
      ]
     },
     "execution_count": 142,
     "metadata": {},
     "output_type": "execute_result"
    }
   ],
   "source": [
    "replace_letter(\"can\")[0:10]"
   ]
  },
  {
   "cell_type": "code",
   "execution_count": 134,
   "metadata": {},
   "outputs": [],
   "source": [
    "def insert_letter(word):\n",
    "    \n",
    "    inserted = []\n",
    "    \n",
    "    abc = \"abcdefghijklmnopqrstuvwxyz\"\n",
    "    \n",
    "    for i in range(len(word)+1):\n",
    "        for new in abc:\n",
    "            inserted_word = word[:i] + new + word[i:]\n",
    "            inserted.append(inserted_word)\n",
    "            \n",
    "    return inserted"
   ]
  },
  {
   "cell_type": "code",
   "execution_count": 145,
   "metadata": {},
   "outputs": [
    {
     "data": {
      "text/plain": [
       "['aat', 'bat', 'cat', 'dat', 'eat', 'fat', 'gat', 'hat', 'iat', 'jat']"
      ]
     },
     "execution_count": 145,
     "metadata": {},
     "output_type": "execute_result"
    }
   ],
   "source": [
    "insert_letter(\"at\")[0:10]"
   ]
  },
  {
   "cell_type": "markdown",
   "metadata": {},
   "source": [
    "# Part 3: Combining the edits\n",
    "Now that you have implemented the string manipulations, you will create two functions that, given a string, will return all the possible single and double edits on that string. These will be edit_one_letter() and edit_two_letters()."
   ]
  },
  {
   "cell_type": "markdown",
   "metadata": {},
   "source": [
    "## Exercise 8\n",
    "\n",
    "Instructions: Implement the edit_one_letter function to get all the possible edits that are one edit away from a word. The edits consist of the replace, insert, delete, and optionally the switch operation. You should use the previous functions you have already implemented to complete this function. The 'switch' function is a less common edit function, so its use will be selected by an \"allow_switches\" input argument."
   ]
  },
  {
   "cell_type": "code",
   "execution_count": 146,
   "metadata": {},
   "outputs": [],
   "source": [
    "def edit_one_letter(word, allow_switches=False):\n",
    "    \n",
    "    possibles = []\n",
    "    \n",
    "    if allow_switches:\n",
    "        possibles += switch_letter(word)\n",
    "        \n",
    "    possibles += delete_letter(word)\n",
    "    possibles += replace_letter(word)\n",
    "    possibles += insert_letter(word)\n",
    "    \n",
    "    set_possibles = set(possibles)\n",
    "    \n",
    "    return set_possibles"
   ]
  },
  {
   "cell_type": "code",
   "execution_count": 158,
   "metadata": {},
   "outputs": [
    {
     "name": "stdout",
     "output_type": "stream",
     "text": [
      "['pt', 'atk', 'nat', 'atd', 'aet', 'qat', 'aft', 'agt', 'an', 'apt', 'ath', 'cat', 'et', 'bat', 'ut', 'tat', 'vt', 'abt', 'ata', 'aty', 'atz', 'aht', 'ot', 'zt', 'atv', 'lt', 'atw', 'ah', 'adt', 'atf', 'xat', 'att', 'dat', 'eat', 'atu', 'atx', 'rt', 'kt', 'gt', 'hat', 'aqt', 'atn', 'avt', 'wt', 'rat', 'ad', 'av', 'ac', 'ft', 'atc', 'yat', 'az', 'azt', 'amt', 'af', 'axt', 'aot', 'ast', 'art', 'au', 'ht', 'atj', 'atp', 'ato', 'aq', 'aw', 'nt', 'lat', 'atl', 'atm', 'ayt', 'ak', 'ag', 'ab', 'act', 'ar', 'ajt', 'ats', 'ax', 'atr', 'mat', 'aj', 'ati', 'akt', 'fat', 'am', 'ap', 'vat', 'alt', 'ct', 'ao', 'iat', 'wat', 'atg', 'oat', 'awt', 't', 'qt', 'jat', 'aa', 'al', 'ant', 'ait', 'xt', 'mt', 'pat', 'aut', 'atb', 'st', 'aat', 'uat', 'ate', 'as', 'yt', 'atq', 'dt', 'kat', 'ay', 'tt', 'gat', 'bt', 'it', 'sat', 'a', 'zat', 'jt', 'ae', 'ai']\n"
     ]
    }
   ],
   "source": [
    "print(list(edit_one_letter(\"at\")))"
   ]
  },
  {
   "cell_type": "markdown",
   "metadata": {},
   "source": [
    "## Exercise 9\n",
    "\n",
    "Now you can generalize this to implement to get two edits on a word. To do so, you would have to get all the possible edits on a single word and then for each modified word, you would have to modify it again.\n",
    "\n",
    "Instructions: Implement the edit_two_letters function that returns a set of words that are two edits away. Note that creating additional edits based on the edit_one_letter function may 'restore' some one_edits to zero or one edits. That is allowed here. This accounted for in get_corrections."
   ]
  },
  {
   "cell_type": "code",
   "execution_count": 171,
   "metadata": {},
   "outputs": [],
   "source": [
    "def edit_two_letters(word, allow_switches = True):\n",
    "\n",
    "    edit_one = list(edit_one_letter(word,allow_switches=allow_switches))\n",
    "    edit_two = edit_one.copy()\n",
    "    \n",
    "    for w in edit_one:\n",
    "        edit_two += list(edit_one_letter(w,allow_switches=allow_switches))\n",
    "        \n",
    "    edits = set(edit_two)\n",
    "    \n",
    "    return edits"
   ]
  },
  {
   "cell_type": "code",
   "execution_count": 173,
   "metadata": {},
   "outputs": [
    {
     "data": {
      "text/plain": [
       "2654"
      ]
     },
     "execution_count": 173,
     "metadata": {},
     "output_type": "execute_result"
    }
   ],
   "source": [
    "len(edit_two_letters(\"a\"))"
   ]
  },
  {
   "cell_type": "markdown",
   "metadata": {},
   "source": [
    "## Exercise 10\n",
    "\n",
    "Instructions: Implement get_corrections, which returns a list of zero to n possible suggestion tuples of the form (word, probability_of_word)."
   ]
  },
  {
   "cell_type": "code",
   "execution_count": 248,
   "metadata": {},
   "outputs": [],
   "source": [
    "def get_corrections2(word, probs, vocab, n):\n",
    "    \n",
    "    suggestions = []\n",
    "    n_best = []\n",
    "\n",
    "    suggestions = list((word in vocab and word) or edit_one_letter(word).intersection(vocab) or edit_two_letters(word).intersection(vocab))\n",
    "    n_best = [[s,probs[s]] for s in list(reversed(suggestions))]\n",
    "\n",
    "\n",
    "    return n_best"
   ]
  },
  {
   "cell_type": "code",
   "execution_count": 249,
   "metadata": {},
   "outputs": [
    {
     "data": {
      "text/plain": [
       "[['dye', 0.00016350555918901244], ['days', 0.0035971223021582736]]"
      ]
     },
     "execution_count": 249,
     "metadata": {},
     "output_type": "execute_result"
    }
   ],
   "source": [
    "get_corrections2(\"dys\",prob,vocab,2)"
   ]
  },
  {
   "cell_type": "markdown",
   "metadata": {},
   "source": [
    "# Part 4: Minimum Edit distance "
   ]
  },
  {
   "cell_type": "code",
   "execution_count": null,
   "metadata": {},
   "outputs": [],
   "source": []
  },
  {
   "cell_type": "code",
   "execution_count": null,
   "metadata": {},
   "outputs": [],
   "source": []
  },
  {
   "cell_type": "code",
   "execution_count": null,
   "metadata": {},
   "outputs": [],
   "source": []
  },
  {
   "cell_type": "code",
   "execution_count": null,
   "metadata": {},
   "outputs": [],
   "source": []
  }
 ],
 "metadata": {
  "kernelspec": {
   "display_name": "Python 3",
   "language": "python",
   "name": "python3"
  },
  "language_info": {
   "codemirror_mode": {
    "name": "ipython",
    "version": 3
   },
   "file_extension": ".py",
   "mimetype": "text/x-python",
   "name": "python",
   "nbconvert_exporter": "python",
   "pygments_lexer": "ipython3",
   "version": "3.7.6"
  }
 },
 "nbformat": 4,
 "nbformat_minor": 4
}
