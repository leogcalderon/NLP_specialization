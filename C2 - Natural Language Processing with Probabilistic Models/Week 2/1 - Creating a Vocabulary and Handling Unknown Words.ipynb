{
 "cells": [
  {
   "cell_type": "code",
   "execution_count": 47,
   "metadata": {},
   "outputs": [],
   "source": [
    "import string"
   ]
  },
  {
   "cell_type": "code",
   "execution_count": 1,
   "metadata": {},
   "outputs": [],
   "source": [
    "with open(\"WSJ_02-21.pos\", 'r') as f:\n",
    "    lines = f.readlines()"
   ]
  },
  {
   "cell_type": "code",
   "execution_count": 10,
   "metadata": {},
   "outputs": [
    {
     "name": "stdout",
     "output_type": "stream",
     "text": [
      "Word\tTag\n",
      "\n",
      "In\tIN\n",
      "\n",
      "an\tDT\n",
      "\n",
      "Oct.\tNNP\n",
      "\n",
      "19\tCD\n",
      "\n",
      "review\tNN\n",
      "\n"
     ]
    }
   ],
   "source": [
    "print(\"Word\\tTag\\n\")\n",
    "for i in range(5):\n",
    "    print(lines[i])"
   ]
  },
  {
   "cell_type": "markdown",
   "metadata": {},
   "source": [
    "### Creating a vocabulary¶"
   ]
  },
  {
   "cell_type": "code",
   "execution_count": 15,
   "metadata": {},
   "outputs": [],
   "source": [
    "words = [word.split(\"\\t\")[0] for word in lines]"
   ]
  },
  {
   "cell_type": "code",
   "execution_count": 43,
   "metadata": {},
   "outputs": [],
   "source": [
    "vocab = {}\n",
    "for word in words:\n",
    "    if word not in vocab.keys():\n",
    "        vocab[word] = vocab.get(word,1)\n",
    "    else:\n",
    "        vocab[word] += 1"
   ]
  },
  {
   "cell_type": "code",
   "execution_count": 44,
   "metadata": {},
   "outputs": [],
   "source": [
    "vocab_2 = []\n",
    "for key,value in zip(vocab.keys(),vocab.values()):\n",
    "    if value > 1 & value != \"\\n\":\n",
    "        vocab_2.append(key)"
   ]
  },
  {
   "cell_type": "code",
   "execution_count": 46,
   "metadata": {},
   "outputs": [
    {
     "name": "stdout",
     "output_type": "stream",
     "text": [
      "Earlier\n",
      "Early\n",
      "Earnings\n",
      "Earth\n",
      "Earthquake\n"
     ]
    }
   ],
   "source": [
    "for i in range(4000, 4005):\n",
    "    print(vocab_2[i])"
   ]
  },
  {
   "cell_type": "markdown",
   "metadata": {},
   "source": [
    "### Dealing with unknown words\n",
    "This function will do the following checks and return an appropriate token:\n",
    "\n",
    "    Check if the unknown word contains any character that is a digit\n",
    "        return --unk_digit--\n",
    "    Check if the unknown word contains any punctuation character\n",
    "        return --unk_punct--\n",
    "    Check if the unknown word contains any upper-case character\n",
    "        return --unk_upper--\n",
    "    Check if the unknown word ends with a suffix that could indicate it is a noun, verb, adjective or adverb\n",
    "        return --unk_noun--, --unk_verb--, --unk_adj--, --unk_adv-- respectively\n",
    "\n",
    "If a word fails to fall under any condition then its token will be a plain --unk--."
   ]
  },
  {
   "cell_type": "code",
   "execution_count": 55,
   "metadata": {},
   "outputs": [],
   "source": [
    "def assign_unk(word):\n",
    "    \n",
    "    punct = set(string.punctuation)\n",
    "    digit = set(string.digits)\n",
    "    upper = set(string.ascii_uppercase)\n",
    "    \n",
    "    noun_suffix = [\"action\", \"age\", \"ance\", \"cy\", \"dom\", \"ee\", \"ence\", \"er\", \"hood\", \"ion\", \"ism\", \"ist\", \"ity\", \"ling\", \"ment\", \"ness\", \"or\", \"ry\", \"scape\", \"ship\", \"ty\"]\n",
    "    verb_suffix = [\"ate\", \"ify\", \"ise\", \"ize\"]\n",
    "    adj_suffix = [\"able\", \"ese\", \"ful\", \"i\", \"ian\", \"ible\", \"ic\", \"ish\", \"ive\", \"less\", \"ly\", \"ous\"]\n",
    "    adv_suffix = [\"ward\", \"wards\", \"wise\"]\n",
    "    \n",
    "    for letter in word:\n",
    "        if letter in punct:\n",
    "            return \"--unk_punc--\"\n",
    "        \n",
    "        if letter in digit:\n",
    "            return \"--unk_digit--\"\n",
    "        \n",
    "        if letter in upper:\n",
    "            return \"--unk_upper--\"\n",
    "        \n",
    "    for noun in noun_suffix:\n",
    "        if word.endswith(noun):\n",
    "            return \"--unk_noun--\"\n",
    "        \n",
    "    for verb in verb_suffix:\n",
    "        if word.endswith(verb):\n",
    "            return \"--unk_verb--\"\n",
    "        \n",
    "    for adj in adj_suffix:\n",
    "        if word.endswith(adj):\n",
    "            return \"--unk_adj--\"\n",
    "        \n",
    "    for adv in adv_suffix:\n",
    "        if word.endswith(adv):\n",
    "            return \"--unk_adv--\"\n",
    "        \n",
    "        else:\n",
    "            return \"--unk--\""
   ]
  },
  {
   "cell_type": "code",
   "execution_count": 56,
   "metadata": {},
   "outputs": [],
   "source": [
    "def get_word_tag(line, vocab):\n",
    "    if not line.split():\n",
    "        word = \"--n--\"\n",
    "        tag = \"--s--\"\n",
    "    else:\n",
    "        word, tag = line.split()\n",
    "        if word not in vocab:\n",
    "            word = assign_unk(word)\n",
    "    return word, tag"
   ]
  },
  {
   "cell_type": "code",
   "execution_count": 69,
   "metadata": {},
   "outputs": [
    {
     "data": {
      "text/plain": [
       "('--unk_punc--', 'VB')"
      ]
     },
     "execution_count": 69,
     "metadata": {},
     "output_type": "execute_result"
    }
   ],
   "source": [
    "get_word_tag(\"!!!\\nVB\", vocab)"
   ]
  },
  {
   "cell_type": "code",
   "execution_count": 71,
   "metadata": {},
   "outputs": [
    {
     "data": {
      "text/plain": [
       "('--unk_noun--', 'VB')"
      ]
     },
     "execution_count": 71,
     "metadata": {},
     "output_type": "execute_result"
    }
   ],
   "source": [
    "get_word_tag('scrutinization\\tVB\\n', vocab)"
   ]
  },
  {
   "cell_type": "code",
   "execution_count": 76,
   "metadata": {},
   "outputs": [
    {
     "data": {
      "text/plain": [
       "('--unk_verb--', 'VB')"
      ]
     },
     "execution_count": 76,
     "metadata": {},
     "output_type": "execute_result"
    }
   ],
   "source": [
    "get_word_tag('asdaswise\\tVB\\n', vocab)"
   ]
  }
 ],
 "metadata": {
  "kernelspec": {
   "display_name": "Python 3",
   "language": "python",
   "name": "python3"
  },
  "language_info": {
   "codemirror_mode": {
    "name": "ipython",
    "version": 3
   },
   "file_extension": ".py",
   "mimetype": "text/x-python",
   "name": "python",
   "nbconvert_exporter": "python",
   "pygments_lexer": "ipython3",
   "version": "3.7.6"
  }
 },
 "nbformat": 4,
 "nbformat_minor": 4
}
