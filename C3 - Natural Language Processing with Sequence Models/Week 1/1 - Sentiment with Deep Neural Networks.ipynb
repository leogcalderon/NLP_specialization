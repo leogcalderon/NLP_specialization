{
 "cells": [
  {
   "cell_type": "markdown",
   "metadata": {},
   "source": [
    "In course 1, you implemented Logistic regression and Naive Bayes for sentiment analysis. However if you were to give your old models an example like:\n",
    "\n",
    "Your model would have predicted a positive sentiment for that review. However, that sentence has a negative sentiment and indicates that the movie was not good. To solve those kinds of misclassifications, you will write a program that uses deep neural networks to identify sentiment in text. By completing this assignment, you will:\n",
    "\n",
    "- Understand how you can build/design a model using layers\n",
    "- Train a model using a training loop\n",
    "- Use a binary cross-entropy loss function\n",
    "- Compute the accuracy of your model\n",
    "- Predict using your own input\n"
   ]
  },
  {
   "cell_type": "markdown",
   "metadata": {},
   "source": [
    "# Part 1: Load libraries"
   ]
  },
  {
   "cell_type": "code",
   "execution_count": 63,
   "metadata": {},
   "outputs": [],
   "source": [
    "import numpy as np\n",
    "from nlp import *\n",
    "from tensorflow import keras\n",
    "import matplotlib.pyplot as plt"
   ]
  },
  {
   "cell_type": "markdown",
   "metadata": {},
   "source": [
    "# Part 2: Importing the data\n",
    "\n",
    "## 2.1 Loading in the data\n",
    "\n",
    "Import the data set."
   ]
  },
  {
   "cell_type": "code",
   "execution_count": 28,
   "metadata": {},
   "outputs": [],
   "source": [
    "def load_tweets():\n",
    "    \n",
    "    from nltk.corpus import twitter_samples \n",
    "    \n",
    "    all_positive_tweets = twitter_samples.strings('positive_tweets.json')\n",
    "    all_negative_tweets = twitter_samples.strings('negative_tweets.json')  \n",
    "    return all_positive_tweets, all_negative_tweets"
   ]
  },
  {
   "cell_type": "code",
   "execution_count": 29,
   "metadata": {},
   "outputs": [],
   "source": [
    "positive_tweets, negative_tweets = load_tweets()"
   ]
  },
  {
   "cell_type": "code",
   "execution_count": 30,
   "metadata": {},
   "outputs": [],
   "source": [
    "X_train = positive_tweets[:4000] + negative_tweets[:4000]\n",
    "y_train = np.append(np.ones((4000)),np.zeros((4000)))\n",
    "\n",
    "X_test = positive_tweets[4000:] + negative_tweets[4000:]\n",
    "y_test = np.append(np.ones((len(positive_tweets[4000:]))),np.zeros((len(negative_tweets[4000:] ))))"
   ]
  },
  {
   "cell_type": "code",
   "execution_count": 31,
   "metadata": {},
   "outputs": [
    {
     "data": {
      "text/plain": [
       "(8000, 2000, (8000,), (2000,))"
      ]
     },
     "execution_count": 31,
     "metadata": {},
     "output_type": "execute_result"
    }
   ],
   "source": [
    "len(X_train), len(X_test), y_train.shape, y_test.shape"
   ]
  },
  {
   "cell_type": "code",
   "execution_count": 32,
   "metadata": {},
   "outputs": [],
   "source": [
    "X_train_processed = []\n",
    "X_test_processed = []\n",
    "\n",
    "for tweet in X_train:\n",
    "    X_train_processed.append(preprocess_tweet(tweet))\n",
    "    \n",
    "for tweet in X_test:\n",
    "    X_test_processed.append(preprocess_tweet(tweet))"
   ]
  },
  {
   "cell_type": "code",
   "execution_count": 34,
   "metadata": {},
   "outputs": [
    {
     "data": {
      "text/plain": [
       "('@mdokha Thanks for bringing it to our attention. Let us know if you have any questions :) 1TB would be amazing!',\n",
       " ['thank',\n",
       "  'bring',\n",
       "  'attent',\n",
       "  '.',\n",
       "  'let',\n",
       "  'us',\n",
       "  'know',\n",
       "  'question',\n",
       "  ':)',\n",
       "  '1tb',\n",
       "  'would',\n",
       "  'amaz',\n",
       "  '!'])"
      ]
     },
     "execution_count": 34,
     "metadata": {},
     "output_type": "execute_result"
    }
   ],
   "source": [
    "X_train[1002], X_train_processed[1002]"
   ]
  },
  {
   "cell_type": "markdown",
   "metadata": {},
   "source": [
    "## 2.2 Building the vocabulary\n",
    "\n",
    "Now build the vocabulary.\n",
    "\n",
    "- Map each word in each tweet to an integer (an \"index\").\n",
    "- Note that you will build the vocabulary based on the training data.\n",
    "- To do so, you will assign an index to everyword by iterating over your training set.\n",
    "\n",
    "The vocabulary will also include some special tokens\n",
    "\n",
    "- __PAD__: padding\n",
    "- < / e >: end of line\n",
    "- __UNK__: a token representing any word that is not in the vocabulary.\n"
   ]
  },
  {
   "cell_type": "code",
   "execution_count": 35,
   "metadata": {},
   "outputs": [],
   "source": [
    "word2Ind = {'__PAD__': 0, '__</e>__': 1, '__UNK__': 2}\n",
    "train_words = []\n",
    "test_words  = []\n",
    "\n",
    "for tweet in X_train_processed:\n",
    "    train_words += tweet\n",
    "    \n",
    "for tweet in X_test_processed:\n",
    "    test_words += tweet\n",
    "    \n",
    "for i,word in enumerate(train_words):\n",
    "    if word not in word2Ind.keys():\n",
    "        word2Ind[word] = len(word2Ind)"
   ]
  },
  {
   "cell_type": "code",
   "execution_count": 36,
   "metadata": {},
   "outputs": [
    {
     "name": "stdout",
     "output_type": "stream",
     "text": [
      "The vocab has 9123 words\n"
     ]
    }
   ],
   "source": [
    "print(f'The vocab has {len(word2Ind)} words')"
   ]
  },
  {
   "cell_type": "markdown",
   "metadata": {},
   "source": [
    "## 2.3 Converting a tweet to a tensor\n",
    "\n",
    "\n",
    "Write a program tweet_to_tensor that takes in a tweet and converts it to an array of numbers. You can use the Vocab dictionary you just found to help create the tensor."
   ]
  },
  {
   "cell_type": "code",
   "execution_count": 44,
   "metadata": {},
   "outputs": [],
   "source": [
    "def tweet_to_tensor(tweet_tokenized, word2Ind):\n",
    "    tensor = []\n",
    "    for word in tweet_tokenized:\n",
    "        if word not in word2Ind.keys():\n",
    "            tensor.append(word2Ind[\"__UNK__\"])\n",
    "        else:\n",
    "            tensor.append(word2Ind[word])\n",
    "    return tensor"
   ]
  },
  {
   "cell_type": "code",
   "execution_count": 46,
   "metadata": {},
   "outputs": [
    {
     "name": "stdout",
     "output_type": "stream",
     "text": [
      "['welcom', '!', ':D']\n",
      "\n",
      "To array-->\n",
      "\n",
      "[330, 12, 80]\n"
     ]
    }
   ],
   "source": [
    "print(X_train_processed[1111])\n",
    "print(\"\\nTo array-->\\n\")\n",
    "print(tweet_to_tensor(X_train_processed[1111], word2Ind))"
   ]
  },
  {
   "cell_type": "code",
   "execution_count": 47,
   "metadata": {},
   "outputs": [],
   "source": [
    "X_train_array = [tweet_to_tensor(i,word2Ind) for i in X_train_processed]\n",
    "X_test_array = [tweet_to_tensor(i,word2Ind) for i in X_test_processed]"
   ]
  },
  {
   "cell_type": "code",
   "execution_count": 48,
   "metadata": {},
   "outputs": [],
   "source": [
    "max_length = max(max([len(i) for i in X_train_array]),max([len(i) for i in X_test_array]))\n",
    "\n",
    "X_train_padded = keras.preprocessing.sequence.pad_sequences(X_train_array,\n",
    "                                                            maxlen=max_length,\n",
    "                                                            padding=\"post\")\n",
    "\n",
    "X_test_padded = keras.preprocessing.sequence.pad_sequences(X_test_array,\n",
    "                                                            maxlen=max_length,\n",
    "                                                            padding=\"post\")"
   ]
  },
  {
   "cell_type": "code",
   "execution_count": 57,
   "metadata": {},
   "outputs": [
    {
     "data": {
      "text/plain": [
       "array([289, 609, 390, 722,  30,  80,   0,   0,   0,   0,   0,   0,   0,\n",
       "         0,   0,   0,   0,   0,   0,   0,   0,   0,   0,   0,   0,   0,\n",
       "         0,   0,   0,   0,   0,   0,   0,   0,   0,   0,   0,   0,   0,\n",
       "         0,   0,   0,   0,   0,   0,   0,   0,   0,   0,   0,   0,   0],\n",
       "      dtype=int32)"
      ]
     },
     "execution_count": 57,
     "metadata": {},
     "output_type": "execute_result"
    }
   ],
   "source": [
    "X_train_padded[221]"
   ]
  },
  {
   "cell_type": "markdown",
   "metadata": {},
   "source": [
    "# Part 3: Model\n",
    "\n",
    "Now you will implement a classifier using neural networks. Here is the model architecture you will be implementing.\n",
    "\n",
    "- Embedding dim = 256\n",
    "- One hidden layer = 16\n",
    "- Two ouput = 1/0 (sigmoid)\n",
    "- Batch size = 16\n"
   ]
  },
  {
   "cell_type": "code",
   "execution_count": 61,
   "metadata": {},
   "outputs": [],
   "source": [
    "model = keras.models.Sequential()\n",
    "\n",
    "model.add(keras.layers.Embedding(input_dim = len(word2Ind),\n",
    "                                 output_dim = 256, \n",
    "                                 input_length = max_length))\n",
    "\n",
    "model.add(keras.layers.Lambda(lambda x: keras.backend.mean(x, axis=1)))\n",
    "\n",
    "model.add(keras.layers.Dense(64, \n",
    "                             activation = \"relu\"))\n",
    "\n",
    "model.add(keras.layers.Dense(1,\n",
    "                             activation = \"sigmoid\"))\n",
    "\n",
    "model.compile(optimizer=\"adam\",\n",
    "              loss=\"binary_crossentropy\",\n",
    "              metrics=[\"accuracy\"])"
   ]
  },
  {
   "cell_type": "code",
   "execution_count": 59,
   "metadata": {},
   "outputs": [
    {
     "name": "stdout",
     "output_type": "stream",
     "text": [
      "Model: \"sequential_4\"\n",
      "_________________________________________________________________\n",
      "Layer (type)                 Output Shape              Param #   \n",
      "=================================================================\n",
      "embedding_4 (Embedding)      (None, 52, 256)           2335488   \n",
      "_________________________________________________________________\n",
      "lambda_4 (Lambda)            (None, 256)               0         \n",
      "_________________________________________________________________\n",
      "dense_8 (Dense)              (None, 64)                16448     \n",
      "_________________________________________________________________\n",
      "dense_9 (Dense)              (None, 1)                 65        \n",
      "=================================================================\n",
      "Total params: 2,352,001\n",
      "Trainable params: 2,352,001\n",
      "Non-trainable params: 0\n",
      "_________________________________________________________________\n"
     ]
    }
   ],
   "source": [
    "model.summary()"
   ]
  },
  {
   "cell_type": "code",
   "execution_count": 62,
   "metadata": {},
   "outputs": [
    {
     "name": "stdout",
     "output_type": "stream",
     "text": [
      "Epoch 1/10\n",
      "400/400 [==============================] - 12s 30ms/step - loss: 0.3120 - accuracy: 0.8598 - val_loss: 0.1008 - val_accuracy: 0.9600\n",
      "Epoch 2/10\n",
      "400/400 [==============================] - 12s 30ms/step - loss: 0.0135 - accuracy: 0.9977 - val_loss: 0.0177 - val_accuracy: 0.9950\n",
      "Epoch 3/10\n",
      "400/400 [==============================] - 12s 30ms/step - loss: 0.0061 - accuracy: 0.9989 - val_loss: 0.0075 - val_accuracy: 0.9975\n",
      "Epoch 4/10\n",
      "400/400 [==============================] - 12s 29ms/step - loss: 0.0044 - accuracy: 0.9989 - val_loss: 0.0058 - val_accuracy: 0.9981\n",
      "Epoch 5/10\n",
      "400/400 [==============================] - 12s 30ms/step - loss: 0.0037 - accuracy: 0.9987 - val_loss: 0.0168 - val_accuracy: 0.9944\n",
      "Epoch 6/10\n",
      "400/400 [==============================] - 12s 30ms/step - loss: 0.0035 - accuracy: 0.9981 - val_loss: 0.0058 - val_accuracy: 0.9975\n",
      "Epoch 7/10\n",
      "400/400 [==============================] - 12s 30ms/step - loss: 0.0030 - accuracy: 0.9989 - val_loss: 0.0252 - val_accuracy: 0.9937\n",
      "Epoch 8/10\n",
      "400/400 [==============================] - 12s 30ms/step - loss: 0.0020 - accuracy: 0.9994 - val_loss: 0.0090 - val_accuracy: 0.9975\n",
      "Epoch 9/10\n",
      "400/400 [==============================] - 12s 30ms/step - loss: 0.0014 - accuracy: 0.9998 - val_loss: 0.0295 - val_accuracy: 0.9931\n",
      "Epoch 10/10\n",
      "400/400 [==============================] - 12s 31ms/step - loss: 0.0028 - accuracy: 0.9994 - val_loss: 0.0211 - val_accuracy: 0.9944\n"
     ]
    }
   ],
   "source": [
    "hist = model.fit(X_train_padded,\n",
    "                 y_train,\n",
    "                 epochs=10, \n",
    "                 batch_size=16,\n",
    "                 validation_split=0.2,\n",
    "                 shuffle=True)"
   ]
  },
  {
   "cell_type": "code",
   "execution_count": 66,
   "metadata": {},
   "outputs": [
    {
     "data": {
      "image/png": "[encoded data removed]",
      "text/plain": [
       "<Figure size 1080x360 with 1 Axes>"
      ]
     },
     "metadata": {
      "needs_background": "light"
     },
     "output_type": "display_data"
    }
   ],
   "source": [
    "plt.figure(figsize=(15,5))\n",
    "plt.plot(hist.history[\"accuracy\"],label=\"Train\")\n",
    "plt.plot(hist.history[\"val_accuracy\"],label=\"Validation\")\n",
    "plt.legend()\n",
    "plt.title(\"Accuracy history\")\n",
    "plt.show()"
   ]
  },
  {
   "cell_type": "markdown",
   "metadata": {},
   "source": [
    "# Part 4: Evaluation"
   ]
  },
  {
   "cell_type": "code",
   "execution_count": 79,
   "metadata": {},
   "outputs": [],
   "source": [
    "predictions = model.predict(X_test_padded)"
   ]
  },
  {
   "cell_type": "code",
   "execution_count": 80,
   "metadata": {},
   "outputs": [],
   "source": [
    "predictions = [1 if prediction > 0.5 else 0 for prediction in predictions]"
   ]
  },
  {
   "cell_type": "code",
   "execution_count": 81,
   "metadata": {},
   "outputs": [],
   "source": [
    "def accuracy(y_true,predictions):\n",
    "    correct = 0\n",
    "    for i in range(len(y_true)):\n",
    "        if y_true[i] == predictions[i]:\n",
    "            correct += 1\n",
    "    accuracy = (correct / len(y_true))*100\n",
    "    return accuracy"
   ]
  },
  {
   "cell_type": "code",
   "execution_count": 85,
   "metadata": {},
   "outputs": [
    {
     "name": "stdout",
     "output_type": "stream",
     "text": [
      "Accuracy in test set = 99.75%\n"
     ]
    }
   ],
   "source": [
    "ac = accuracy(y_test,predictions)\n",
    "print(f'Accuracy in test set = {ac}%')"
   ]
  },
  {
   "cell_type": "code",
   "execution_count": 90,
   "metadata": {},
   "outputs": [
    {
     "name": "stdout",
     "output_type": "stream",
     "text": [
      "The sentiment of the sentence_pos = 1\n",
      "The sentiment of the sentence_neg = 0\n"
     ]
    }
   ],
   "source": [
    "sentence_pos = \"It's such a nice day, think i'll be taking Sid to Ramsgate fish and chips for lunch at Peter's fish factory and then the beach maybe\"\n",
    "sentence_neg = \"I hated my day, it was the worst, I'm so sad.\"\n",
    "\n",
    "sentence_pos, sentence_neg = preprocess_tweet(sentence_pos), preprocess_tweet(sentence_neg)\n",
    "\n",
    "sentence_pos, sentence_neg = tweet_to_tensor(sentence_pos,word2Ind), tweet_to_tensor(sentence_neg,word2Ind)\n",
    "\n",
    "sentence_pos = keras.preprocessing.sequence.pad_sequences([sentence_pos],padding=\"post\",maxlen=max_length)\n",
    "sentence_neg = keras.preprocessing.sequence.pad_sequences([sentence_neg],padding=\"post\",maxlen=max_length)\n",
    "\n",
    "sentence_pos_prob = 1 if model.predict(sentence_pos)>0.5 else 0\n",
    "sentence_neg_prob = 1 if model.predict(sentence_neg)>0.5 else 0\n",
    "\n",
    "print(f\"The sentiment of the sentence_pos = {sentence_pos_prob}\")\n",
    "print(f\"The sentiment of the sentence_neg = {sentence_neg_prob}\")"
   ]
  }
 ],
 "metadata": {
  "kernelspec": {
   "display_name": "Python 3",
   "language": "python",
   "name": "python3"
  },
  "language_info": {
   "codemirror_mode": {
    "name": "ipython",
    "version": 3
   },
   "file_extension": ".py",
   "mimetype": "text/x-python",
   "name": "python",
   "nbconvert_exporter": "python",
   "pygments_lexer": "ipython3",
   "version": "3.7.6"
  }
 },
 "nbformat": 4,
 "nbformat_minor": 4
}
